# Dependencies and Setup
import matplotlib.pyplot as plt
import pandas as pd
import scipy.stats as st
from scipy.stats import linregress


# horse racing files 
race_details_path = "Resources/race_details_20240101_20240131.csv"
race_results_path = "Resources/race_results_20240101_20240131.csv"

# Read both datasets
race_details = pd.read_csv(race_details_path)
race_results = pd.read_csv(race_results_path)

# Combine the data into a single DataFrame

# Merge the datasets on the columns 'race_date', 'race_city', and 'race_no'
combined = pd.merge(race_details, race_results, on=['race_date', 'race_city', 'race_no'])

# Save the merged DataFrame to a new CSV file
#merged_df.to_csv('path_to_merged_dataset.csv', index=False)

# Display the data table for preview

combined.head()



