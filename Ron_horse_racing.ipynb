{
 "cells": [
  {
   "cell_type": "code",
   "execution_count": 13,
   "id": "e0a6d5c9-face-4e03-afc7-e94e81f21748",
   "metadata": {},
   "outputs": [],
   "source": [
    "# Dependencies and Setup\n",
    "import matplotlib.pyplot as plt\n",
    "import pandas as pd\n",
    "import scipy.stats as st\n",
    "from scipy.stats import linregress\n",
    "import numpy as np"
   ]
  },
  {
   "cell_type": "code",
   "execution_count": 14,
   "id": "4d40c9f0-a4df-4814-bb7d-e9552a202ea6",
   "metadata": {},
   "outputs": [
    {
     "data": {
      "text/html": [
       "<div>\n",
       "<style scoped>\n",
       "    .dataframe tbody tr th:only-of-type {\n",
       "        vertical-align: middle;\n",
       "    }\n",
       "\n",
       "    .dataframe tbody tr th {\n",
       "        vertical-align: top;\n",
       "    }\n",
       "\n",
       "    .dataframe thead th {\n",
       "        text-align: right;\n",
       "    }\n",
       "</style>\n",
       "<table border=\"1\" class=\"dataframe\">\n",
       "  <thead>\n",
       "    <tr style=\"text-align: right;\">\n",
       "      <th></th>\n",
       "      <th>race_date</th>\n",
       "      <th>race_city</th>\n",
       "      <th>race_no</th>\n",
       "      <th>race_type</th>\n",
       "      <th>race_sex_group</th>\n",
       "      <th>race_age_group</th>\n",
       "      <th>race_race_group</th>\n",
       "      <th>race_length</th>\n",
       "      <th>race_track_type</th>\n",
       "      <th>race_track_condition</th>\n",
       "      <th>...</th>\n",
       "      <th>horse_owner</th>\n",
       "      <th>horse_trainer</th>\n",
       "      <th>horse_race_degree</th>\n",
       "      <th>horse_win_value</th>\n",
       "      <th>horse_psf_rate</th>\n",
       "      <th>horse_psf_rank</th>\n",
       "      <th>Horse_starting_box_no</th>\n",
       "      <th>horse_margin</th>\n",
       "      <th>horse_late_start</th>\n",
       "      <th>horse_rate</th>\n",
       "    </tr>\n",
       "  </thead>\n",
       "  <tbody>\n",
       "    <tr>\n",
       "      <th>0</th>\n",
       "      <td>2024-01-01</td>\n",
       "      <td>Bursa</td>\n",
       "      <td>1</td>\n",
       "      <td>Condition 2</td>\n",
       "      <td>Undefined</td>\n",
       "      <td>3 Years Old</td>\n",
       "      <td>English</td>\n",
       "      <td>1400</td>\n",
       "      <td>Dirt</td>\n",
       "      <td>Good Going</td>\n",
       "      <td>...</td>\n",
       "      <td>NİMET ARİF KURTEL</td>\n",
       "      <td>TAMER TURAN</td>\n",
       "      <td>1.31.26</td>\n",
       "      <td>1.5</td>\n",
       "      <td>49</td>\n",
       "      <td>1</td>\n",
       "      <td>1</td>\n",
       "      <td>9 Lengths</td>\n",
       "      <td>NaN</td>\n",
       "      <td>42</td>\n",
       "    </tr>\n",
       "  </tbody>\n",
       "</table>\n",
       "<p>1 rows × 31 columns</p>\n",
       "</div>"
      ],
      "text/plain": [
       "    race_date race_city  race_no    race_type race_sex_group race_age_group  \\\n",
       "0  2024-01-01     Bursa        1  Condition 2      Undefined    3 Years Old   \n",
       "\n",
       "  race_race_group  race_length race_track_type race_track_condition  ...  \\\n",
       "0         English         1400            Dirt           Good Going  ...   \n",
       "\n",
       "         horse_owner  horse_trainer horse_race_degree horse_win_value  \\\n",
       "0  NİMET ARİF KURTEL    TAMER TURAN           1.31.26             1.5   \n",
       "\n",
       "   horse_psf_rate horse_psf_rank Horse_starting_box_no horse_margin  \\\n",
       "0              49              1                     1    9 Lengths   \n",
       "\n",
       "  horse_late_start  horse_rate  \n",
       "0              NaN          42  \n",
       "\n",
       "[1 rows x 31 columns]"
      ]
     },
     "execution_count": 14,
     "metadata": {},
     "output_type": "execute_result"
    }
   ],
   "source": [
    "# import cleaned path\n",
    "clean_df_path = 'clean.csv'\n",
    "\n",
    "# pandas read csv\n",
    "clean_df = pd.read_csv(clean_df_path)\n",
    "\n",
    "# preview\n",
    "clean_df.head(1)"
   ]
  },
  {
   "cell_type": "code",
   "execution_count": 30,
   "id": "9f2837b9-7c0f-4602-aa5a-69dea2575866",
   "metadata": {},
   "outputs": [
    {
     "data": {
      "text/plain": [
       "result\n",
       "0        0\n",
       "1      153\n",
       "2      346\n",
       "3      558\n",
       "4      752\n",
       "5      915\n",
       "6     1032\n",
       "7     1078\n",
       "8     1144\n",
       "9     1035\n",
       "10     890\n",
       "11     671\n",
       "12     492\n",
       "13     351\n",
       "14     280\n",
       "15     180\n",
       "16      48\n",
       "17      51\n",
       "18      36\n",
       "Name: result, dtype: int64"
      ]
     },
     "execution_count": 30,
     "metadata": {},
     "output_type": "execute_result"
    }
   ],
   "source": [
    "# 1. The winning rate horse_sex  (f/ m)? undefine? \n",
    "female_horse = clean_df[clean_df['horse_sex'] == 'f']\n",
    "\n",
    "win_female_rate_df = female_horse.groupby('result')['result'].sum()\n",
    "win_female_rate_df"
   ]
  },
  {
   "cell_type": "code",
   "execution_count": 31,
   "id": "f3267dd2-57df-4c83-94d4-95472bb0d02f",
   "metadata": {},
   "outputs": [
    {
     "data": {
      "text/plain": [
       "result\n",
       "0        0\n",
       "1      328\n",
       "2      612\n",
       "3      882\n",
       "4     1160\n",
       "5     1450\n",
       "6     1482\n",
       "7     1435\n",
       "8     1304\n",
       "9     1215\n",
       "10    1010\n",
       "11     869\n",
       "12     600\n",
       "13     377\n",
       "14     294\n",
       "15     120\n",
       "16      80\n",
       "17      34\n",
       "18      36\n",
       "Name: result, dtype: int64"
      ]
     },
     "execution_count": 31,
     "metadata": {},
     "output_type": "execute_result"
    }
   ],
   "source": [
    "male_horse = clean_df[clean_df['horse_sex'] == 'm']\n",
    "\n",
    "win_male_rate_df = male_horse.groupby('result')['result'].sum()\n",
    "win_male_rate_df"
   ]
  },
  {
   "cell_type": "code",
   "execution_count": 42,
   "id": "b6e6e158-3747-4e23-8ef5-70c5c7824a1a",
   "metadata": {},
   "outputs": [
    {
     "data": {
      "image/png": "[encoded data removed]",
      "text/plain": [
       "<Figure size 1000x600 with 1 Axes>"
      ]
     },
     "metadata": {},
     "output_type": "display_data"
    }
   ],
   "source": [
    "# chart width\n",
    "plt.figure(figsize=(10, 6))\n",
    "\n",
    "# Bar width\n",
    "bar_width = 0.35\n",
    "\n",
    "# Get the unique result categories\n",
    "results = win_female_rate_df.index\n",
    "\n",
    "# Plotting bars for female horses\n",
    "plt.bar(results, win_female_rate_df, bar_width, label='Female')\n",
    "\n",
    "# Plotting bars for male horses\n",
    "plt.bar([r + bar_width for r in results], win_male_rate_df, bar_width, label='Male')\n",
    "\n",
    "# Adding labels and title\n",
    "plt.xlabel('Game Winning Position')\n",
    "plt.ylabel('Total Wins')\n",
    "plt.title('Win Rates by Horse Sex')\n",
    "plt.xticks([r + bar_width / 2 for r in range(len(results))], results)\n",
    "plt.legend()\n",
    "\n",
    "# Show plot\n",
    "plt.show()\n"
   ]
  },
  {
   "cell_type": "code",
   "execution_count": null,
   "id": "326f58eb-2a65-44ae-9e75-5ad634294819",
   "metadata": {},
   "outputs": [],
   "source": [
    "# 2. How does the win value vary with race length?"
   ]
  },
  {
   "cell_type": "code",
   "execution_count": null,
   "id": "dbe3c7e3-4982-494f-8752-1a248504bf62",
   "metadata": {},
   "outputs": [],
   "source": [
    "# 3. The winning rate based on the horse age group? "
   ]
  },
  {
   "cell_type": "code",
   "execution_count": null,
   "id": "317dffd5-2f3d-4e44-8c9e-56da9138cc54",
   "metadata": {},
   "outputs": [],
   "source": [
    "# 4. Name of the Horse ranking based on the horse age group?"
   ]
  },
  {
   "cell_type": "code",
   "execution_count": null,
   "id": "4a696680-1297-4dd3-92b1-d18fda7b6082",
   "metadata": {},
   "outputs": [],
   "source": [
    "# 5. Who are the top 10 horse trainers by the number of wins?"
   ]
  }
 ],
 "metadata": {
  "kernelspec": {
   "display_name": "Python 3 (ipykernel)",
   "language": "python",
   "name": "python3"
  },
  "language_info": {
   "codemirror_mode": {
    "name": "ipython",
    "version": 3
   },
   "file_extension": ".py",
   "mimetype": "text/x-python",
   "name": "python",
   "nbconvert_exporter": "python",
   "pygments_lexer": "ipython3",
   "version": "3.11.5"
  }
 },
 "nbformat": 4,
 "nbformat_minor": 5
}
